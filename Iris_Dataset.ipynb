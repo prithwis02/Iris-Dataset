{
  "nbformat": 4,
  "nbformat_minor": 0,
  "metadata": {
    "colab": {
      "name": "Iris Dataset",
      "provenance": [],
      "collapsed_sections": []
    },
    "kernelspec": {
      "name": "python3",
      "display_name": "Python 3"
    },
    "language_info": {
      "name": "python"
    }
  },
  "cells": [
    {
      "cell_type": "markdown",
      "source": [
        "**IRIS DATASET\n",
        "by PRITHWIS DAS**\n",
        "\n",
        "---\n"
      ],
      "metadata": {
        "id": "LaKWtw0IGuDe"
      }
    },
    {
      "cell_type": "markdown",
      "source": [
        "**Import Libraries :**"
      ],
      "metadata": {
        "id": "zJeumRcAIyT9"
      }
    },
    {
      "cell_type": "code",
      "execution_count": 2,
      "metadata": {
        "id": "rvmw32wDIjcd"
      },
      "outputs": [],
      "source": [
        "import numpy as np\n",
        "import pandas as pd\n",
        "from sklearn.pipeline import Pipeline\n",
        "import joblib\n",
        "import json\n",
        "from sklearn.linear_model import LogisticRegression"
      ]
    },
    {
      "cell_type": "markdown",
      "source": [
        "**Import Dataset :**"
      ],
      "metadata": {
        "id": "MrF08kOjJTEZ"
      }
    },
    {
      "cell_type": "code",
      "source": [
        "from sklearn.datasets import load_iris"
      ],
      "metadata": {
        "id": "ZVpd9QM9IrQv"
      },
      "execution_count": 3,
      "outputs": []
    },
    {
      "cell_type": "markdown",
      "source": [
        "**Load Dataset :**"
      ],
      "metadata": {
        "id": "CeSl0w9UJMgd"
      }
    },
    {
      "cell_type": "code",
      "source": [
        "dataset = load_iris()\n",
        "dataset\n"
      ],
      "metadata": {
        "id": "y_UcM30SIuBy"
      },
      "execution_count": null,
      "outputs": []
    },
    {
      "cell_type": "markdown",
      "source": [
        "**Dividing Dataset :**"
      ],
      "metadata": {
        "id": "9NqMcDLiLSZJ"
      }
    },
    {
      "cell_type": "code",
      "source": [
        "x = dataset.data\n",
        "y = dataset.target"
      ],
      "metadata": {
        "id": "6O4Uy5bWJoE0"
      },
      "execution_count": 5,
      "outputs": []
    },
    {
      "cell_type": "markdown",
      "source": [
        "**Scaling :**"
      ],
      "metadata": {
        "id": "jOYsx5_WSLfB"
      }
    },
    {
      "cell_type": "code",
      "source": [
        "from sklearn.preprocessing import StandardScaler\n",
        "x = StandardScaler().fit_transform(x)"
      ],
      "metadata": {
        "id": "wuPjMogkRlEj"
      },
      "execution_count": 6,
      "outputs": []
    },
    {
      "cell_type": "markdown",
      "source": [
        "**Splitting into Training & Testing :** "
      ],
      "metadata": {
        "id": "ZOwprq5KM-47"
      }
    },
    {
      "cell_type": "code",
      "source": [
        "from sklearn.model_selection import train_test_split\n",
        "x_train, x_test, y_train, y_test = train_test_split(x, y, test_size=0.1)"
      ],
      "metadata": {
        "id": "hsSTzUNLNQXu"
      },
      "execution_count": 7,
      "outputs": []
    },
    {
      "cell_type": "markdown",
      "source": [
        "**Logistic Regression :**"
      ],
      "metadata": {
        "id": "QmGDcY4eP9cT"
      }
    },
    {
      "cell_type": "code",
      "source": [
        "from sklearn.linear_model import LogisticRegression\n",
        "model_LR=LogisticRegression()\n",
        "model_LR.fit(x_train,y_train)"
      ],
      "metadata": {
        "id": "mDmS9QbGQDJK",
        "colab": {
          "base_uri": "https://localhost:8080/"
        },
        "outputId": "3e9acfa2-a456-4775-dc47-abee505a616f"
      },
      "execution_count": 8,
      "outputs": [
        {
          "output_type": "execute_result",
          "data": {
            "text/plain": [
              "LogisticRegression()"
            ]
          },
          "metadata": {},
          "execution_count": 8
        }
      ]
    },
    {
      "cell_type": "markdown",
      "source": [
        "**Testing Accuracy :**"
      ],
      "metadata": {
        "id": "-X-zeZ7YSdnh"
      }
    },
    {
      "cell_type": "code",
      "source": [
        "prediction = model_LR.predict(x_test)\n",
        "from sklearn.metrics import accuracy_score\n",
        "print(accuracy_score(y_test, prediction)*100)"
      ],
      "metadata": {
        "colab": {
          "base_uri": "https://localhost:8080/"
        },
        "id": "8v-N6BZOShzx",
        "outputId": "95a66cb4-e8f7-419e-9ce1-75bee87600ac"
      },
      "execution_count": 9,
      "outputs": [
        {
          "output_type": "stream",
          "name": "stdout",
          "text": [
            "100.0\n"
          ]
        }
      ]
    },
    {
      "cell_type": "markdown",
      "source": [
        "**Creating File:**"
      ],
      "metadata": {
        "id": "2Mo4CqzLZqHj"
      }
    },
    {
      "cell_type": "code",
      "source": [
        "joblib.dump(model_LR,'model.joblib')"
      ],
      "metadata": {
        "id": "AX22t0G1ZuUS",
        "colab": {
          "base_uri": "https://localhost:8080/"
        },
        "outputId": "3c0487a3-0713-480c-f874-096de95a1c55"
      },
      "execution_count": 10,
      "outputs": [
        {
          "output_type": "execute_result",
          "data": {
            "text/plain": [
              "['model.joblib']"
            ]
          },
          "metadata": {},
          "execution_count": 10
        }
      ]
    },
    {
      "cell_type": "markdown",
      "source": [
        "**Loading :**"
      ],
      "metadata": {
        "id": "Kn_cvD7vl-x3"
      }
    },
    {
      "cell_type": "code",
      "source": [
        "filename = 'model.joblib'\n",
        "rf = joblib.load(filename)\n",
        "result = rf.score(x_test, y_test)\n",
        "print((result)*100)"
      ],
      "metadata": {
        "colab": {
          "base_uri": "https://localhost:8080/"
        },
        "id": "gYfKxKaymCJw",
        "outputId": "0ebc12b2-a843-47e0-c039-362e5cfd87c2"
      },
      "execution_count": 11,
      "outputs": [
        {
          "output_type": "stream",
          "name": "stdout",
          "text": [
            "100.0\n"
          ]
        }
      ]
    },
    {
      "cell_type": "markdown",
      "source": [
        "**Creating Instances :**"
      ],
      "metadata": {
        "id": "jdDS0sCzpCVJ"
      }
    },
    {
      "cell_type": "code",
      "source": [
        "instances = x_test[:2, :]\n",
        "instances = instances.tolist()\n",
        "print(instances)"
      ],
      "metadata": {
        "colab": {
          "base_uri": "https://localhost:8080/"
        },
        "id": "AYVBOkBgnhdv",
        "outputId": "a94e7a69-591c-40f6-fba1-8ff111106c8a"
      },
      "execution_count": 12,
      "outputs": [
        {
          "output_type": "stream",
          "name": "stdout",
          "text": [
            "[[-1.0218490407414607, 0.3284140531956675, -1.4539013804499696, -1.3154442950077407], [2.1285155907934725, -0.1319794793216258, 1.6153196728845993, 1.1855672065079756]]\n"
          ]
        }
      ]
    },
    {
      "cell_type": "code",
      "source": [
        "#Local test after creating instance \n",
        "rf.predict(instances)"
      ],
      "metadata": {
        "colab": {
          "base_uri": "https://localhost:8080/"
        },
        "id": "ANwYXlR2pMHO",
        "outputId": "606b95e5-ba72-4e46-b5c2-747a07e38000"
      },
      "execution_count": 13,
      "outputs": [
        {
          "output_type": "execute_result",
          "data": {
            "text/plain": [
              "array([0, 2])"
            ]
          },
          "metadata": {},
          "execution_count": 13
        }
      ]
    },
    {
      "cell_type": "markdown",
      "source": [
        "**Input & Output:**"
      ],
      "metadata": {
        "id": "bd-Fk7ocTbTp"
      }
    },
    {
      "cell_type": "code",
      "source": [
        "x_new = np.array([[0.06866179325140251, -0.13197947932162404, 0.25122142695812577, 0.3957741007661711]])\n",
        "prediction = model_LR.predict(x_new)\n",
        "print(\"Predicted Species : {}\".format(prediction))"
      ],
      "metadata": {
        "colab": {
          "base_uri": "https://localhost:8080/"
        },
        "id": "38O0tJUNTh36",
        "outputId": "d49c4165-b0df-4368-ca95-195ba4c002bb"
      },
      "execution_count": 14,
      "outputs": [
        {
          "output_type": "stream",
          "name": "stdout",
          "text": [
            "Predicted Species : [1]\n"
          ]
        }
      ]
    },
    {
      "cell_type": "markdown",
      "source": [
        "**Creating Json Input Format**"
      ],
      "metadata": {
        "id": "e0rxrNl1rDop"
      }
    },
    {
      "cell_type": "code",
      "source": [
        "sample_input = {'instances': instances}\n",
        "json.dumps(sample_input)"
      ],
      "metadata": {
        "colab": {
          "base_uri": "https://localhost:8080/",
          "height": 52
        },
        "id": "pZaeXWwqpopB",
        "outputId": "01863843-34cd-4465-9349-901addbad385"
      },
      "execution_count": 15,
      "outputs": [
        {
          "output_type": "execute_result",
          "data": {
            "text/plain": [
              "'{\"instances\": [[-1.0218490407414607, 0.3284140531956675, -1.4539013804499696, -1.3154442950077407], [2.1285155907934725, -0.1319794793216258, 1.6153196728845993, 1.1855672065079756]]}'"
            ],
            "application/vnd.google.colaboratory.intrinsic+json": {
              "type": "string"
            }
          },
          "metadata": {},
          "execution_count": 15
        }
      ]
    }
  ]
}